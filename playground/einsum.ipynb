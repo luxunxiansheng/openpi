{
 "cells": [
  {
   "cell_type": "code",
   "execution_count": null,
   "metadata": {},
   "outputs": [],
   "source": [
    "import torch\n",
    "\n",
    "x = torch.tensor([[1, 2, 3],\n",
    "                 [4, 5, 6]])\n",
    "\n",
    "y = torch.tensor([[7, 8, 9],\n",
    "                    [10, 11, 12]])\n",
    "\n",
    "print(x)\n",
    "print(x.shape)"
   ]
  },
  {
   "cell_type": "code",
   "execution_count": null,
   "metadata": {},
   "outputs": [],
   "source": [
    "permutation = torch.einsum('ij->ji', x)\n",
    "print(permutation)\n",
    "print(permutation.shape)"
   ]
  },
  {
   "cell_type": "code",
   "execution_count": null,
   "metadata": {},
   "outputs": [],
   "source": [
    "column_sum = torch.einsum('ij->j', x)\n",
    "print(column_sum)\n",
    "print(column_sum.shape)"
   ]
  },
  {
   "cell_type": "code",
   "execution_count": null,
   "metadata": {},
   "outputs": [],
   "source": [
    "row_sum = torch.einsum('ij->i', x)\n",
    "print(row_sum)\n",
    "print(row_sum.shape)"
   ]
  },
  {
   "cell_type": "code",
   "execution_count": null,
   "metadata": {},
   "outputs": [],
   "source": [
    "sum = torch.einsum('ij->', x)\n",
    "print(sum)\n",
    "print(sum.shape)"
   ]
  },
  {
   "cell_type": "code",
   "execution_count": null,
   "metadata": {},
   "outputs": [],
   "source": [
    "v = torch.tensor([1, 2, 3])\n",
    "print(v)\n",
    "\n",
    "print(x.shape[0])\n",
    "\n",
    "matrix_vector_product = torch.einsum('ij,j->i', x, v)\n",
    "print(matrix_vector_product)\n",
    "print(matrix_vector_product.shape)\n",
    "\n",
    "for i in range(x.shape[0]):\n",
    "    total = 0\n",
    "    for j in range(x.shape[1]):\n",
    "        total += x[i, j] * v[j]\n",
    "    print(total)\n",
    "\n",
    "matrix_product = torch.einsum('ij,j->i', x, v)\n",
    "print(matrix_product)\n",
    "print(matrix_product.shape)\n",
    "\n"
   ]
  },
  {
   "cell_type": "code",
   "execution_count": null,
   "metadata": {},
   "outputs": [],
   "source": [
    "print(x)\n",
    "print(x.shape)\n",
    "\n",
    "print(y)\n",
    "print(y.shape)"
   ]
  },
  {
   "cell_type": "code",
   "execution_count": null,
   "metadata": {},
   "outputs": [],
   "source": [
    "e= torch.randn(3,2,5)\n",
    "f = torch.randn(3,5,4)\n",
    "g = torch.einsum('ijk,ikl->ijl', e, f)\n",
    "print(g)\n",
    "print(g.shape)"
   ]
  },
  {
   "cell_type": "code",
   "execution_count": null,
   "metadata": {},
   "outputs": [],
   "source": [
    "for i in range(3):\n",
    "    for j in range(2):\n",
    "        for l in range(4):\n",
    "            total = 0\n",
    "            for k in range(5):\n",
    "                total += e[i, j, k] * f[i, k, l]\n",
    "            print(total)"
   ]
  }
 ],
 "metadata": {
  "kernelspec": {
   "display_name": ".venv",
   "language": "python",
   "name": "python3"
  },
  "language_info": {
   "codemirror_mode": {
    "name": "ipython",
    "version": 3
   },
   "file_extension": ".py",
   "mimetype": "text/x-python",
   "name": "python",
   "nbconvert_exporter": "python",
   "pygments_lexer": "ipython3",
   "version": "3.11.9"
  }
 },
 "nbformat": 4,
 "nbformat_minor": 2
}
